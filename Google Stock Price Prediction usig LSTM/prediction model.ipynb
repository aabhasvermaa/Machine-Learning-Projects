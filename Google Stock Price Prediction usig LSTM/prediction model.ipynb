{
 "cells": [
  {
   "cell_type": "code",
   "execution_count": 1,
   "metadata": {},
   "outputs": [],
   "source": [
    "#importing libraries\n",
    "import os\n",
    "import numpy as np\n",
    "import pandas as pd\n",
    "import matplotlib.pyplot as plt\n",
    "%matplotlib inline "
   ]
  },
  {
   "cell_type": "code",
   "execution_count": 2,
   "metadata": {},
   "outputs": [
    {
     "data": {
      "text/html": [
       "<div>\n",
       "<style scoped>\n",
       "    .dataframe tbody tr th:only-of-type {\n",
       "        vertical-align: middle;\n",
       "    }\n",
       "\n",
       "    .dataframe tbody tr th {\n",
       "        vertical-align: top;\n",
       "    }\n",
       "\n",
       "    .dataframe thead th {\n",
       "        text-align: right;\n",
       "    }\n",
       "</style>\n",
       "<table border=\"1\" class=\"dataframe\">\n",
       "  <thead>\n",
       "    <tr style=\"text-align: right;\">\n",
       "      <th></th>\n",
       "      <th>Date</th>\n",
       "      <th>Open</th>\n",
       "      <th>High</th>\n",
       "      <th>Low</th>\n",
       "      <th>Close</th>\n",
       "      <th>Volume</th>\n",
       "    </tr>\n",
       "  </thead>\n",
       "  <tbody>\n",
       "    <tr>\n",
       "      <th>0</th>\n",
       "      <td>1/3/2012</td>\n",
       "      <td>325.25</td>\n",
       "      <td>332.83</td>\n",
       "      <td>324.97</td>\n",
       "      <td>663.59</td>\n",
       "      <td>7,380,500</td>\n",
       "    </tr>\n",
       "    <tr>\n",
       "      <th>1</th>\n",
       "      <td>1/4/2012</td>\n",
       "      <td>331.27</td>\n",
       "      <td>333.87</td>\n",
       "      <td>329.08</td>\n",
       "      <td>666.45</td>\n",
       "      <td>5,749,400</td>\n",
       "    </tr>\n",
       "    <tr>\n",
       "      <th>2</th>\n",
       "      <td>1/5/2012</td>\n",
       "      <td>329.83</td>\n",
       "      <td>330.75</td>\n",
       "      <td>326.89</td>\n",
       "      <td>657.21</td>\n",
       "      <td>6,590,300</td>\n",
       "    </tr>\n",
       "    <tr>\n",
       "      <th>3</th>\n",
       "      <td>1/6/2012</td>\n",
       "      <td>328.34</td>\n",
       "      <td>328.77</td>\n",
       "      <td>323.68</td>\n",
       "      <td>648.24</td>\n",
       "      <td>5,405,900</td>\n",
       "    </tr>\n",
       "    <tr>\n",
       "      <th>4</th>\n",
       "      <td>1/9/2012</td>\n",
       "      <td>322.04</td>\n",
       "      <td>322.29</td>\n",
       "      <td>309.46</td>\n",
       "      <td>620.76</td>\n",
       "      <td>11,688,800</td>\n",
       "    </tr>\n",
       "  </tbody>\n",
       "</table>\n",
       "</div>"
      ],
      "text/plain": [
       "       Date    Open    High     Low   Close      Volume\n",
       "0  1/3/2012  325.25  332.83  324.97  663.59   7,380,500\n",
       "1  1/4/2012  331.27  333.87  329.08  666.45   5,749,400\n",
       "2  1/5/2012  329.83  330.75  326.89  657.21   6,590,300\n",
       "3  1/6/2012  328.34  328.77  323.68  648.24   5,405,900\n",
       "4  1/9/2012  322.04  322.29  309.46  620.76  11,688,800"
      ]
     },
     "execution_count": 2,
     "metadata": {},
     "output_type": "execute_result"
    }
   ],
   "source": [
    "dataset_train = pd.read_csv('Google_Stock_Price_Train.csv')\n",
    "dataset_train.head()"
   ]
  },
  {
   "cell_type": "code",
   "execution_count": 3,
   "metadata": {},
   "outputs": [
    {
     "name": "stdout",
     "output_type": "stream",
     "text": [
      "[[325.25]\n",
      " [331.27]\n",
      " [329.83]\n",
      " ...\n",
      " [793.7 ]\n",
      " [783.33]\n",
      " [782.75]]\n",
      "(1258, 1)\n"
     ]
    }
   ],
   "source": [
    "training_set = dataset_train.iloc[:,1:2].values\n",
    "print(training_set)\n",
    "print(training_set.shape)"
   ]
  },
  {
   "cell_type": "code",
   "execution_count": 4,
   "metadata": {},
   "outputs": [
    {
     "data": {
      "text/plain": [
       "array([[0.08581368],\n",
       "       [0.09701243],\n",
       "       [0.09433366],\n",
       "       ...,\n",
       "       [0.95725128],\n",
       "       [0.93796041],\n",
       "       [0.93688146]])"
      ]
     },
     "execution_count": 4,
     "metadata": {},
     "output_type": "execute_result"
    }
   ],
   "source": [
    "from sklearn.preprocessing import MinMaxScaler\n",
    "scaler = MinMaxScaler(feature_range= (0,1))\n",
    "scaled_training_set = scaler.fit_transform(training_set)\n",
    "\n",
    "scaled_training_set"
   ]
  },
  {
   "cell_type": "code",
   "execution_count": 5,
   "metadata": {},
   "outputs": [
    {
     "name": "stdout",
     "output_type": "stream",
     "text": [
      "(1198, 60)\n",
      "(1198,)\n"
     ]
    }
   ],
   "source": [
    "X_train = []\n",
    "Y_train = []\n",
    "\n",
    "for i in range(60,1258):\n",
    "    X_train.append(scaled_training_set[i-60:i,0])\n",
    "    Y_train.append(scaled_training_set[i,0])\n",
    "\n",
    "x_train = np.array(X_train)\n",
    "y_train = np.array(Y_train)\n",
    "\n",
    "print(x_train.shape)\n",
    "print(y_train.shape)"
   ]
  },
  {
   "cell_type": "code",
   "execution_count": 6,
   "metadata": {},
   "outputs": [
    {
     "data": {
      "text/plain": [
       "(1198, 60, 1)"
      ]
     },
     "execution_count": 6,
     "metadata": {},
     "output_type": "execute_result"
    }
   ],
   "source": [
    "x_train = np.reshape(x_train, (x_train.shape[0], x_train.shape[1],1))\n",
    "x_train.shape"
   ]
  },
  {
   "cell_type": "code",
   "execution_count": 7,
   "metadata": {},
   "outputs": [],
   "source": [
    "#import for model \n",
    "from keras.models import Sequential\n",
    "from keras.layers import LSTM\n",
    "from keras.layers import Dense\n",
    "from keras.layers import Dropout"
   ]
  },
  {
   "cell_type": "code",
   "execution_count": 8,
   "metadata": {},
   "outputs": [
    {
     "name": "stderr",
     "output_type": "stream",
     "text": [
      "2023-09-30 16:08:05.137841: I metal_plugin/src/device/metal_device.cc:1154] Metal device set to: Apple M2\n",
      "2023-09-30 16:08:05.137862: I metal_plugin/src/device/metal_device.cc:296] systemMemory: 8.00 GB\n",
      "2023-09-30 16:08:05.137867: I metal_plugin/src/device/metal_device.cc:313] maxCacheSize: 2.67 GB\n",
      "2023-09-30 16:08:05.137927: I tensorflow/core/common_runtime/pluggable_device/pluggable_device_factory.cc:303] Could not identify NUMA node of platform GPU ID 0, defaulting to 0. Your kernel may not have been built with NUMA support.\n",
      "2023-09-30 16:08:05.137961: I tensorflow/core/common_runtime/pluggable_device/pluggable_device_factory.cc:269] Created TensorFlow device (/job:localhost/replica:0/task:0/device:GPU:0 with 0 MB memory) -> physical PluggableDevice (device: 0, name: METAL, pci bus id: <undefined>)\n"
     ]
    }
   ],
   "source": [
    "regressor = Sequential()\n",
    "regressor.add(LSTM(units=50, return_sequences=True, input_shape= (x_train.shape[1],1)))\n",
    "regressor.add(Dropout(0.2))\n",
    "\n",
    "regressor.add(LSTM(units=50, return_sequences=True))\n",
    "regressor.add(Dropout(0.2))\n",
    "\n",
    "regressor.add(LSTM(units=50, return_sequences=True))\n",
    "regressor.add(Dropout(0.2))\n",
    "\n",
    "regressor.add(LSTM(units=50,))\n",
    "regressor.add(Dropout(0.2))\n",
    "              \n",
    "regressor.add(Dense(units=1))"
   ]
  },
  {
   "cell_type": "code",
   "execution_count": 9,
   "metadata": {},
   "outputs": [
    {
     "name": "stdout",
     "output_type": "stream",
     "text": [
      "Epoch 1/60\n"
     ]
    },
    {
     "name": "stderr",
     "output_type": "stream",
     "text": [
      "2023-09-30 16:08:09.037137: I tensorflow/core/grappler/optimizers/custom_graph_optimizer_registry.cc:114] Plugin optimizer for device_type GPU is enabled.\n",
      "2023-09-30 16:08:09.500243: I tensorflow/core/grappler/optimizers/custom_graph_optimizer_registry.cc:114] Plugin optimizer for device_type GPU is enabled.\n",
      "2023-09-30 16:08:10.689008: I tensorflow/core/grappler/optimizers/custom_graph_optimizer_registry.cc:114] Plugin optimizer for device_type GPU is enabled.\n",
      "2023-09-30 16:08:11.421567: I tensorflow/core/grappler/optimizers/custom_graph_optimizer_registry.cc:114] Plugin optimizer for device_type GPU is enabled.\n",
      "2023-09-30 16:08:12.103204: I tensorflow/core/grappler/optimizers/custom_graph_optimizer_registry.cc:114] Plugin optimizer for device_type GPU is enabled.\n",
      "2023-09-30 16:08:14.419428: I tensorflow/core/grappler/optimizers/custom_graph_optimizer_registry.cc:114] Plugin optimizer for device_type GPU is enabled.\n",
      "2023-09-30 16:08:16.237660: I tensorflow/core/grappler/optimizers/custom_graph_optimizer_registry.cc:114] Plugin optimizer for device_type GPU is enabled.\n",
      "2023-09-30 16:08:17.482981: I tensorflow/core/grappler/optimizers/custom_graph_optimizer_registry.cc:114] Plugin optimizer for device_type GPU is enabled.\n",
      "2023-09-30 16:08:18.728735: I tensorflow/core/grappler/optimizers/custom_graph_optimizer_registry.cc:114] Plugin optimizer for device_type GPU is enabled.\n"
     ]
    },
    {
     "name": "stdout",
     "output_type": "stream",
     "text": [
      "38/38 [==============================] - 17s 109ms/step - loss: 0.0494\n",
      "Epoch 2/60\n",
      "38/38 [==============================] - 1s 29ms/step - loss: 0.0056\n",
      "Epoch 3/60\n",
      "38/38 [==============================] - 1s 29ms/step - loss: 0.0030\n",
      "Epoch 4/60\n",
      "38/38 [==============================] - 1s 28ms/step - loss: 0.0032\n",
      "Epoch 5/60\n",
      "38/38 [==============================] - 1s 30ms/step - loss: 0.0023\n",
      "Epoch 6/60\n",
      "38/38 [==============================] - 1s 30ms/step - loss: 0.0021\n",
      "Epoch 7/60\n",
      "38/38 [==============================] - 1s 30ms/step - loss: 0.0020\n",
      "Epoch 8/60\n",
      "38/38 [==============================] - 1s 27ms/step - loss: 0.0019\n",
      "Epoch 9/60\n",
      "38/38 [==============================] - 1s 30ms/step - loss: 0.0019\n",
      "Epoch 10/60\n",
      "38/38 [==============================] - 1s 30ms/step - loss: 0.0019\n",
      "Epoch 11/60\n",
      "38/38 [==============================] - 1s 29ms/step - loss: 0.0019\n",
      "Epoch 12/60\n",
      "38/38 [==============================] - 1s 29ms/step - loss: 0.0029\n",
      "Epoch 13/60\n",
      "38/38 [==============================] - 1s 29ms/step - loss: 0.0017\n",
      "Epoch 14/60\n",
      "38/38 [==============================] - 1s 29ms/step - loss: 0.0018\n",
      "Epoch 15/60\n",
      "38/38 [==============================] - 1s 28ms/step - loss: 0.0016\n",
      "Epoch 16/60\n",
      "38/38 [==============================] - 1s 29ms/step - loss: 0.0016\n",
      "Epoch 17/60\n",
      "38/38 [==============================] - 1s 30ms/step - loss: 0.0015\n",
      "Epoch 18/60\n",
      "38/38 [==============================] - 1s 29ms/step - loss: 0.0014\n",
      "Epoch 19/60\n",
      "38/38 [==============================] - 1s 31ms/step - loss: 0.0015\n",
      "Epoch 20/60\n",
      "38/38 [==============================] - 1s 31ms/step - loss: 0.0017\n",
      "Epoch 21/60\n",
      "38/38 [==============================] - 1s 30ms/step - loss: 0.0019\n",
      "Epoch 22/60\n",
      "38/38 [==============================] - 1s 28ms/step - loss: 0.0016\n",
      "Epoch 23/60\n",
      "38/38 [==============================] - 1s 29ms/step - loss: 0.0014\n",
      "Epoch 24/60\n",
      "38/38 [==============================] - 1s 29ms/step - loss: 0.0015\n",
      "Epoch 25/60\n",
      "38/38 [==============================] - 1s 29ms/step - loss: 0.0014\n",
      "Epoch 26/60\n",
      "38/38 [==============================] - 1s 30ms/step - loss: 0.0014\n",
      "Epoch 27/60\n",
      "38/38 [==============================] - 1s 30ms/step - loss: 0.0013\n",
      "Epoch 28/60\n",
      "38/38 [==============================] - 1s 30ms/step - loss: 0.0013\n",
      "Epoch 29/60\n",
      "38/38 [==============================] - 1s 30ms/step - loss: 0.0014\n",
      "Epoch 30/60\n",
      "38/38 [==============================] - 1s 29ms/step - loss: 0.0012\n",
      "Epoch 31/60\n",
      "38/38 [==============================] - 1s 30ms/step - loss: 0.0012\n",
      "Epoch 32/60\n",
      "38/38 [==============================] - 1s 30ms/step - loss: 0.0015\n",
      "Epoch 33/60\n",
      "38/38 [==============================] - 1s 29ms/step - loss: 0.0012\n",
      "Epoch 34/60\n",
      "38/38 [==============================] - 1s 28ms/step - loss: 0.0012\n",
      "Epoch 35/60\n",
      "38/38 [==============================] - 1s 30ms/step - loss: 0.0012\n",
      "Epoch 36/60\n",
      "38/38 [==============================] - 1s 30ms/step - loss: 0.0012\n",
      "Epoch 37/60\n",
      "38/38 [==============================] - 1s 29ms/step - loss: 0.0011\n",
      "Epoch 38/60\n",
      "38/38 [==============================] - 1s 30ms/step - loss: 0.0012\n",
      "Epoch 39/60\n",
      "38/38 [==============================] - 1s 30ms/step - loss: 0.0013\n",
      "Epoch 40/60\n",
      "38/38 [==============================] - 1s 29ms/step - loss: 0.0011\n",
      "Epoch 41/60\n",
      "38/38 [==============================] - 1s 30ms/step - loss: 9.8885e-04\n",
      "Epoch 42/60\n",
      "38/38 [==============================] - 1s 30ms/step - loss: 9.7457e-04\n",
      "Epoch 43/60\n",
      "38/38 [==============================] - 1s 30ms/step - loss: 9.4604e-04\n",
      "Epoch 44/60\n",
      "38/38 [==============================] - 1s 29ms/step - loss: 9.1592e-04\n",
      "Epoch 45/60\n",
      "38/38 [==============================] - 1s 28ms/step - loss: 9.0376e-04\n",
      "Epoch 46/60\n",
      "38/38 [==============================] - 1s 29ms/step - loss: 8.8274e-04\n",
      "Epoch 47/60\n",
      "38/38 [==============================] - 1s 30ms/step - loss: 8.1062e-04\n",
      "Epoch 48/60\n",
      "38/38 [==============================] - 1s 30ms/step - loss: 7.7538e-04\n",
      "Epoch 49/60\n",
      "38/38 [==============================] - 1s 29ms/step - loss: 7.9870e-04\n",
      "Epoch 50/60\n",
      "38/38 [==============================] - 1s 30ms/step - loss: 8.1119e-04\n",
      "Epoch 51/60\n",
      "38/38 [==============================] - 1s 30ms/step - loss: 8.1487e-04\n",
      "Epoch 52/60\n",
      "38/38 [==============================] - 1s 29ms/step - loss: 7.5881e-04\n",
      "Epoch 53/60\n",
      "38/38 [==============================] - 1s 30ms/step - loss: 7.7358e-04\n",
      "Epoch 54/60\n",
      "38/38 [==============================] - 1s 30ms/step - loss: 8.3685e-04\n",
      "Epoch 55/60\n",
      "38/38 [==============================] - 1s 30ms/step - loss: 6.6745e-04\n",
      "Epoch 56/60\n",
      "38/38 [==============================] - 1s 30ms/step - loss: 8.0572e-04\n",
      "Epoch 57/60\n",
      "38/38 [==============================] - 1s 30ms/step - loss: 0.0011\n",
      "Epoch 58/60\n",
      "38/38 [==============================] - 1s 30ms/step - loss: 7.1017e-04\n",
      "Epoch 59/60\n",
      "38/38 [==============================] - 1s 30ms/step - loss: 7.4896e-04\n",
      "Epoch 60/60\n",
      "38/38 [==============================] - 1s 29ms/step - loss: 8.6286e-04\n"
     ]
    },
    {
     "data": {
      "text/plain": [
       "<keras.src.callbacks.History at 0x28d053d10>"
      ]
     },
     "execution_count": 9,
     "metadata": {},
     "output_type": "execute_result"
    }
   ],
   "source": [
    "regressor.compile(optimizer='adam', loss='mean_squared_error')\n",
    "regressor.fit(x_train, y_train, epochs=60, batch_size=32)"
   ]
  },
  {
   "cell_type": "code",
   "execution_count": 10,
   "metadata": {},
   "outputs": [],
   "source": [
    "dataset_test= pd.read_csv(\"Google_Stock_Price_Test.csv\")\n",
    "actual_stock_price = dataset_test.iloc[:,1:2].values\n"
   ]
  },
  {
   "cell_type": "code",
   "execution_count": 11,
   "metadata": {},
   "outputs": [],
   "source": [
    "dataset_total = pd.concat((dataset_train['Open'], dataset_test['Open']), axis=0)\n",
    "inputs = dataset_total[len(dataset_total)-len(dataset_test)-60:].values\n",
    "\n",
    "inputs = inputs.reshape(-1,1)\n",
    "inputs = scaler.transform(inputs)\n",
    "\n",
    "x_test = []\n",
    "for i in range (60,80):\n",
    "    x_test.append(inputs[i-60:i,0])\n",
    "\n",
    "x_test = np.array(x_test)\n",
    "x_test = np.reshape(x_test, (x_test.shape[0], x_test.shape[1], 1))"
   ]
  },
  {
   "cell_type": "code",
   "execution_count": 12,
   "metadata": {},
   "outputs": [
    {
     "name": "stderr",
     "output_type": "stream",
     "text": [
      "2023-09-30 16:09:30.720678: I tensorflow/core/grappler/optimizers/custom_graph_optimizer_registry.cc:114] Plugin optimizer for device_type GPU is enabled.\n",
      "2023-09-30 16:09:30.879291: I tensorflow/core/grappler/optimizers/custom_graph_optimizer_registry.cc:114] Plugin optimizer for device_type GPU is enabled.\n",
      "2023-09-30 16:09:31.281647: I tensorflow/core/grappler/optimizers/custom_graph_optimizer_registry.cc:114] Plugin optimizer for device_type GPU is enabled.\n",
      "2023-09-30 16:09:31.804808: I tensorflow/core/grappler/optimizers/custom_graph_optimizer_registry.cc:114] Plugin optimizer for device_type GPU is enabled.\n",
      "2023-09-30 16:09:32.328630: I tensorflow/core/grappler/optimizers/custom_graph_optimizer_registry.cc:114] Plugin optimizer for device_type GPU is enabled.\n"
     ]
    },
    {
     "name": "stdout",
     "output_type": "stream",
     "text": [
      "1/1 [==============================] - 3s 3s/step\n"
     ]
    }
   ],
   "source": [
    "predicted_stock_price = regressor.predict(x_test)\n",
    "predicted_stock_price = scaler.inverse_transform(predicted_stock_price)"
   ]
  },
  {
   "cell_type": "code",
   "execution_count": 13,
   "metadata": {},
   "outputs": [
    {
     "data": {
      "text/plain": [
       "<matplotlib.legend.Legend at 0x28d051710>"
      ]
     },
     "execution_count": 13,
     "metadata": {},
     "output_type": "execute_result"
    },
    {
     "data": {
      "image/png": "[encoded data removed]",
      "text/plain": [
       "<Figure size 640x480 with 1 Axes>"
      ]
     },
     "metadata": {},
     "output_type": "display_data"
    }
   ],
   "source": [
    "plt.plot(actual_stock_price, color = 'red', label = \"Actual Google Stock Price\")\n",
    "plt.plot(predicted_stock_price, color = 'cyan', label = \"Predicted Stock Price\")\n",
    "plt.title('Google Stock Price Prediction')\n",
    "plt.xlabel(\"TIME\")\n",
    "plt.ylabel('PRICE')\n",
    "plt.legend()"
   ]
  },
  {
   "cell_type": "code",
   "execution_count": null,
   "metadata": {},
   "outputs": [],
   "source": []
  }
 ],
 "metadata": {
  "kernelspec": {
   "display_name": "Python 3",
   "language": "python",
   "name": "python3"
  },
  "language_info": {
   "codemirror_mode": {
    "name": "ipython",
    "version": 3
   },
   "file_extension": ".py",
   "mimetype": "text/x-python",
   "name": "python",
   "nbconvert_exporter": "python",
   "pygments_lexer": "ipython3",
   "version": "3.11.5"
  },
  "orig_nbformat": 4
 },
 "nbformat": 4,
 "nbformat_minor": 2
}
